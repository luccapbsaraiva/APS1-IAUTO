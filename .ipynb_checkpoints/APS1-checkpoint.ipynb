{
 "cells": [
  {
   "cell_type": "markdown",
   "id": "5ec948b6-68e2-407f-8dc8-cadc1567f4f6",
   "metadata": {},
   "source": [
    "**Passo 1 - Carregando os Dados para análise**\r\n",
    "\r\n",
    "1. Carrega-se os dados a partir de um arquivo csv;\r\n",
    "2. Verifica-se os valores, tipos e estruturas dos dados;\r\n",
    "3. Verificar os dados faltantes e balanceamento."
   ]
  },
  {
   "cell_type": "code",
   "execution_count": 1,
   "id": "b13d7d39-4e99-4637-893e-f4927f1b5538",
   "metadata": {},
   "outputs": [],
   "source": [
    "import pandas as pd\n",
    "import matplotlib.pyplot as plt\n",
    "import numpy as np"
   ]
  },
  {
   "cell_type": "code",
   "execution_count": null,
   "id": "1eac07c3-51b0-471a-a070-3ad829ad633a",
   "metadata": {},
   "outputs": [],
   "source": []
  }
 ],
 "metadata": {
  "kernelspec": {
   "display_name": "Python 3 (ipykernel)",
   "language": "python",
   "name": "python3"
  },
  "language_info": {
   "codemirror_mode": {
    "name": "ipython",
    "version": 3
   },
   "file_extension": ".py",
   "mimetype": "text/x-python",
   "name": "python",
   "nbconvert_exporter": "python",
   "pygments_lexer": "ipython3",
   "version": "3.12.4"
  }
 },
 "nbformat": 4,
 "nbformat_minor": 5
}
